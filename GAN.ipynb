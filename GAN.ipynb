{
  "nbformat": 4,
  "nbformat_minor": 0,
  "metadata": {
    "colab": {
      "provenance": [],
      "authorship_tag": "ABX9TyPV2YknpJasWbfp4lOwX0G3",
      "include_colab_link": true
    },
    "kernelspec": {
      "name": "python3",
      "display_name": "Python 3"
    },
    "language_info": {
      "name": "python"
    }
  },
  "cells": [
    {
      "cell_type": "markdown",
      "metadata": {
        "id": "view-in-github",
        "colab_type": "text"
      },
      "source": [
        "<a href=\"https://colab.research.google.com/github/cds0987/GAN/blob/main/GAN.ipynb\" target=\"_parent\"><img src=\"https://colab.research.google.com/assets/colab-badge.svg\" alt=\"Open In Colab\"/></a>"
      ]
    },
    {
      "cell_type": "code",
      "execution_count": null,
      "metadata": {
        "id": "93AJzlkkl-5V"
      },
      "outputs": [],
      "source": [
        "class G_block(nn.Module):\n",
        "    def __init__(self, out_channels, in_channels=3, kernel_size=4, strides=2,\n",
        "                 padding=1, **kwargs):\n",
        "        super(G_block, self).__init__(**kwargs)\n",
        "        self.conv2d_trans = nn.ConvTranspose2d(in_channels, out_channels,\n",
        "                                kernel_size, strides, padding, bias=False)\n",
        "        self.batch_norm = nn.BatchNorm2d(out_channels)\n",
        "        self.activation = nn.ReLU()\n",
        "\n",
        "    def forward(self, X):\n",
        "        return self.activation(self.batch_norm(self.conv2d_trans(X)))"
      ]
    },
    {
      "cell_type": "code",
      "source": [
        "n_G = 64\n",
        "net_G = nn.Sequential(\n",
        "    G_block(in_channels=100, out_channels=n_G*8,\n",
        "            strides=1, padding=0),                  # Output: (64 * 8, 4, 4)\n",
        "    G_block(in_channels=n_G*8, out_channels=n_G*4), # Output: (64 * 4, 8, 8)\n",
        "    G_block(in_channels=n_G*4, out_channels=n_G*2), # Output: (64 * 2, 16, 16)\n",
        "    G_block(in_channels=n_G*2, out_channels=n_G),   # Output: (64, 32, 32)\n",
        "    nn.ConvTranspose2d(in_channels=n_G, out_channels=3,\n",
        "                       kernel_size=4, stride=2, padding=1, bias=False),\n",
        "    nn.Tanh())  # Output: (3, 64, 64)"
      ],
      "metadata": {
        "id": "NHe5GCALm_Bw"
      },
      "execution_count": null,
      "outputs": []
    },
    {
      "cell_type": "code",
      "source": [
        "x = torch.zeros((1, 100, 1, 1))\n",
        "net_G(x).shape"
      ],
      "metadata": {
        "colab": {
          "base_uri": "https://localhost:8080/"
        },
        "id": "BO5FpD3iojwv",
        "outputId": "46b6ced9-993e-4dad-d8cf-b4ec82e9d5ac"
      },
      "execution_count": null,
      "outputs": [
        {
          "output_type": "execute_result",
          "data": {
            "text/plain": [
              "torch.Size([1, 3, 64, 64])"
            ]
          },
          "metadata": {},
          "execution_count": 6
        }
      ]
    },
    {
      "cell_type": "code",
      "source": [],
      "metadata": {
        "id": "GaxCzMEE4oIb"
      },
      "execution_count": null,
      "outputs": []
    },
    {
      "cell_type": "code",
      "source": [],
      "metadata": {
        "id": "TEmRTdfz8hzQ"
      },
      "execution_count": null,
      "outputs": []
    },
    {
      "cell_type": "code",
      "source": [
        "n_D = 64\n",
        "net_D = nn.Sequential(\n",
        "    D_block(n_D),  # Output: (64, 32, 32)\n",
        "    D_block(in_channels=n_D, out_channels=n_D*2),  # Output: (64 * 2, 16, 16)\n",
        "    D_block(in_channels=n_D*2, out_channels=n_D*4),  # Output: (64 * 4, 8, 8)\n",
        "    D_block(in_channels=n_D*4, out_channels=n_D*8),  # Output: (64 * 8, 4, 4)\n",
        "    nn.Conv2d(in_channels=n_D*8, out_channels=1,\n",
        "              kernel_size=4, bias=False))  # Output: (1, 1, 1)\n"
      ],
      "metadata": {
        "id": "j1rLOVv8oxuG"
      },
      "execution_count": null,
      "outputs": []
    },
    {
      "cell_type": "code",
      "source": [
        "\n",
        "x = torch.zeros((2, 3, 16, 16))\n",
        "d_blk = D_block(20)\n",
        "d_blk(x).shape"
      ],
      "metadata": {
        "colab": {
          "base_uri": "https://localhost:8080/"
        },
        "id": "IgPvavrTrLYK",
        "outputId": "e2587cfe-8eb1-4fc5-eabe-da8cd303d57a"
      },
      "execution_count": null,
      "outputs": [
        {
          "output_type": "execute_result",
          "data": {
            "text/plain": [
              "torch.Size([2, 20, 8, 8])"
            ]
          },
          "metadata": {},
          "execution_count": 10
        }
      ]
    },
    {
      "cell_type": "code",
      "source": [
        "\n",
        "x = torch.zeros((1, 3, 64, 64))\n",
        "net_D(x).shape"
      ],
      "metadata": {
        "colab": {
          "base_uri": "https://localhost:8080/"
        },
        "id": "EyJnUDNjt19L",
        "outputId": "f4ddcb0f-ef5b-4ac8-90c0-40f0af9d8fa4"
      },
      "execution_count": null,
      "outputs": [
        {
          "output_type": "execute_result",
          "data": {
            "text/plain": [
              "torch.Size([1, 1, 1, 1])"
            ]
          },
          "metadata": {},
          "execution_count": 20
        }
      ]
    },
    {
      "cell_type": "code",
      "source": [
        "data_loader = DataLoader(train_dataset, batch_size=128, shuffle=True, num_workers=4)\n"
      ],
      "metadata": {
        "colab": {
          "base_uri": "https://localhost:8080/"
        },
        "id": "BjFzzJaO8inn",
        "outputId": "79b54054-cefe-4c76-a503-8d6a551415bd"
      },
      "execution_count": null,
      "outputs": [
        {
          "output_type": "stream",
          "name": "stderr",
          "text": [
            "/usr/local/lib/python3.10/dist-packages/torch/utils/data/dataloader.py:558: UserWarning: This DataLoader will create 4 worker processes in total. Our suggested max number of worker in current system is 2, which is smaller than what this DataLoader is going to create. Please be aware that excessive worker creation might get DataLoader running slow or even freeze, lower the worker number to avoid potential slowness/freeze if necessary.\n",
            "  warnings.warn(_create_warning_msg(\n"
          ]
        }
      ]
    },
    {
      "cell_type": "code",
      "source": [
        "train_loader = DataLoader(train_dataset, batch_size=64, shuffle=True, num_workers=4)"
      ],
      "metadata": {
        "colab": {
          "base_uri": "https://localhost:8080/"
        },
        "id": "5Me1MqWF3ks7",
        "outputId": "3c651d08-97b7-4722-f6aa-4da218c8a933"
      },
      "execution_count": null,
      "outputs": [
        {
          "output_type": "stream",
          "name": "stderr",
          "text": [
            "/usr/local/lib/python3.10/dist-packages/torch/utils/data/dataloader.py:558: UserWarning: This DataLoader will create 4 worker processes in total. Our suggested max number of worker in current system is 2, which is smaller than what this DataLoader is going to create. Please be aware that excessive worker creation might get DataLoader running slow or even freeze, lower the worker number to avoid potential slowness/freeze if necessary.\n",
            "  warnings.warn(_create_warning_msg(\n"
          ]
        }
      ]
    },
    {
      "cell_type": "code",
      "source": [
        "n_G = 64\n",
        "net_G = nn.Sequential(\n",
        "    G_block(in_channels=100, out_channels=n_G*8,\n",
        "            strides=1, padding=0),  # Output: (64 * 8, 4, 4)\n",
        "    G_block(in_channels=n_G*8, out_channels=n_G*4),  # Output: (64 * 4, 8, 8)\n",
        "    G_block(in_channels=n_G*4, out_channels=n_G*2),  # Output: (64 * 2, 16, 16)\n",
        "    G_block(in_channels=n_G*2, out_channels=n_G),    # Output: (64, 32, 32)\n",
        "    nn.ConvTranspose2d(in_channels=n_G, out_channels=3,\n",
        "                       kernel_size=4, stride=2, padding=1, bias=False),\n",
        "    nn.Tanh())  # Output: (3, 64, 64)\n",
        "\n",
        "# Define the Discriminator\n",
        "n_D = 64\n",
        "net_D = nn.Sequential(\n",
        "    D_block(3, n_D),                  # Output: (64, 32, 32)\n",
        "    D_block(in_channels=n_D, out_channels=n_D*2),   # Output: (64 * 2, 16, 16)\n",
        "    D_block(in_channels=n_D*2, out_channels=n_D*4), # Output: (64 * 4, 8, 8)\n",
        "    D_block(in_channels=n_D*4, out_channels=n_D*8), # Output: (64 * 8, 4, 4)\n",
        "    nn.Conv2d(in_channels=n_D*8, out_channels=1,\n",
        "              kernel_size=4, bias=False))  # Output: (1, 1, 1)\n",
        "\n",
        "# Printing out the Generator and Discriminator architectures\n",
        "print(\"Generator Architecture:\")\n",
        "print(net_G)\n",
        "print(\"\\nDiscriminator Architecture:\")\n",
        "print(net_D)"
      ],
      "metadata": {
        "colab": {
          "base_uri": "https://localhost:8080/"
        },
        "id": "qx-1ikvf8jUQ",
        "outputId": "8f0094ae-3f83-441a-c118-fb0715721c2d"
      },
      "execution_count": null,
      "outputs": [
        {
          "output_type": "stream",
          "name": "stdout",
          "text": [
            "Generator Architecture:\n",
            "Sequential(\n",
            "  (0): G_block(\n",
            "    (conv2d_trans): ConvTranspose2d(100, 512, kernel_size=(4, 4), stride=(1, 1), bias=False)\n",
            "    (batch_norm): BatchNorm2d(512, eps=1e-05, momentum=0.1, affine=True, track_running_stats=True)\n",
            "    (activation): ReLU()\n",
            "  )\n",
            "  (1): G_block(\n",
            "    (conv2d_trans): ConvTranspose2d(512, 256, kernel_size=(4, 4), stride=(2, 2), padding=(1, 1), bias=False)\n",
            "    (batch_norm): BatchNorm2d(256, eps=1e-05, momentum=0.1, affine=True, track_running_stats=True)\n",
            "    (activation): ReLU()\n",
            "  )\n",
            "  (2): G_block(\n",
            "    (conv2d_trans): ConvTranspose2d(256, 128, kernel_size=(4, 4), stride=(2, 2), padding=(1, 1), bias=False)\n",
            "    (batch_norm): BatchNorm2d(128, eps=1e-05, momentum=0.1, affine=True, track_running_stats=True)\n",
            "    (activation): ReLU()\n",
            "  )\n",
            "  (3): G_block(\n",
            "    (conv2d_trans): ConvTranspose2d(128, 64, kernel_size=(4, 4), stride=(2, 2), padding=(1, 1), bias=False)\n",
            "    (batch_norm): BatchNorm2d(64, eps=1e-05, momentum=0.1, affine=True, track_running_stats=True)\n",
            "    (activation): ReLU()\n",
            "  )\n",
            "  (4): ConvTranspose2d(64, 3, kernel_size=(4, 4), stride=(2, 2), padding=(1, 1), bias=False)\n",
            "  (5): Tanh()\n",
            ")\n",
            "\n",
            "Discriminator Architecture:\n",
            "Sequential(\n",
            "  (0): D_block(\n",
            "    (conv2d): Conv2d(64, 3, kernel_size=(4, 4), stride=(2, 2), padding=(1, 1), bias=False)\n",
            "    (batch_norm): BatchNorm2d(3, eps=1e-05, momentum=0.1, affine=True, track_running_stats=True)\n",
            "    (activation): LeakyReLU(negative_slope=0.2, inplace=True)\n",
            "  )\n",
            "  (1): D_block(\n",
            "    (conv2d): Conv2d(64, 128, kernel_size=(4, 4), stride=(2, 2), padding=(1, 1), bias=False)\n",
            "    (batch_norm): BatchNorm2d(128, eps=1e-05, momentum=0.1, affine=True, track_running_stats=True)\n",
            "    (activation): LeakyReLU(negative_slope=0.2, inplace=True)\n",
            "  )\n",
            "  (2): D_block(\n",
            "    (conv2d): Conv2d(128, 256, kernel_size=(4, 4), stride=(2, 2), padding=(1, 1), bias=False)\n",
            "    (batch_norm): BatchNorm2d(256, eps=1e-05, momentum=0.1, affine=True, track_running_stats=True)\n",
            "    (activation): LeakyReLU(negative_slope=0.2, inplace=True)\n",
            "  )\n",
            "  (3): D_block(\n",
            "    (conv2d): Conv2d(256, 512, kernel_size=(4, 4), stride=(2, 2), padding=(1, 1), bias=False)\n",
            "    (batch_norm): BatchNorm2d(512, eps=1e-05, momentum=0.1, affine=True, track_running_stats=True)\n",
            "    (activation): LeakyReLU(negative_slope=0.2, inplace=True)\n",
            "  )\n",
            "  (4): Conv2d(512, 1, kernel_size=(4, 4), stride=(1, 1), bias=False)\n",
            ")\n"
          ]
        }
      ]
    },
    {
      "cell_type": "code",
      "source": [
        "criterion = nn.BCEWithLogitsLoss()\n",
        "\n",
        "# Define optimizers\n",
        "optimizer_G = optim.Adam(net_G.parameters(), lr=0.0002, betas=(0.5, 0.999))\n",
        "optimizer_D = optim.Adam(net_D.parameters(), lr=0.0002, betas=(0.5, 0.999))\n",
        "\n",
        "# Training Loop\n",
        "num_epochs = 20\n",
        "device = torch.device(\"cuda\" if torch.cuda.is_available() else \"cpu\")\n",
        "net_G.to(device)\n",
        "net_D.to(device)\n",
        "net_G.train()\n",
        "net_D.train()"
      ],
      "metadata": {
        "colab": {
          "base_uri": "https://localhost:8080/"
        },
        "id": "KxbDuroe8mkB",
        "outputId": "fd957c9f-8e13-416a-cdfb-1bbc03918558"
      },
      "execution_count": null,
      "outputs": [
        {
          "output_type": "execute_result",
          "data": {
            "text/plain": [
              "Sequential(\n",
              "  (0): D_block(\n",
              "    (conv2d): Conv2d(64, 3, kernel_size=(4, 4), stride=(2, 2), padding=(1, 1), bias=False)\n",
              "    (batch_norm): BatchNorm2d(3, eps=1e-05, momentum=0.1, affine=True, track_running_stats=True)\n",
              "    (activation): LeakyReLU(negative_slope=0.2, inplace=True)\n",
              "  )\n",
              "  (1): D_block(\n",
              "    (conv2d): Conv2d(64, 128, kernel_size=(4, 4), stride=(2, 2), padding=(1, 1), bias=False)\n",
              "    (batch_norm): BatchNorm2d(128, eps=1e-05, momentum=0.1, affine=True, track_running_stats=True)\n",
              "    (activation): LeakyReLU(negative_slope=0.2, inplace=True)\n",
              "  )\n",
              "  (2): D_block(\n",
              "    (conv2d): Conv2d(128, 256, kernel_size=(4, 4), stride=(2, 2), padding=(1, 1), bias=False)\n",
              "    (batch_norm): BatchNorm2d(256, eps=1e-05, momentum=0.1, affine=True, track_running_stats=True)\n",
              "    (activation): LeakyReLU(negative_slope=0.2, inplace=True)\n",
              "  )\n",
              "  (3): D_block(\n",
              "    (conv2d): Conv2d(256, 512, kernel_size=(4, 4), stride=(2, 2), padding=(1, 1), bias=False)\n",
              "    (batch_norm): BatchNorm2d(512, eps=1e-05, momentum=0.1, affine=True, track_running_stats=True)\n",
              "    (activation): LeakyReLU(negative_slope=0.2, inplace=True)\n",
              "  )\n",
              "  (4): Conv2d(512, 1, kernel_size=(4, 4), stride=(1, 1), bias=False)\n",
              ")"
            ]
          },
          "metadata": {},
          "execution_count": 28
        }
      ]
    },
    {
      "cell_type": "code",
      "source": [
        "import warnings\n",
        "import torch\n",
        "import torchvision\n",
        "from torch import nn"
      ],
      "metadata": {
        "id": "dvAs4utw9RHX"
      },
      "execution_count": null,
      "outputs": []
    },
    {
      "cell_type": "code",
      "source": [
        "import torchvision\n",
        "import torchvision.transforms as transforms\n",
        "\n",
        "# Define transformations\n",
        "transform = transforms.Compose([\n",
        "    transforms.ToTensor(),\n",
        "    transforms.Normalize((0.5, 0.5, 0.5), (0.5, 0.5, 0.5))\n",
        "])\n",
        "\n",
        "# Load CIFAR-10 dataset\n",
        "trainset = torchvision.datasets.CIFAR10(root='./data', train=True, download=True, transform=transform)\n",
        "trainloader = torch.utils.data.DataLoader(trainset, batch_size=4, shuffle=True, num_workers=2)\n",
        "\n",
        "testset = torchvision.datasets.CIFAR10(root='./data', train=False, download=True, transform=transform)\n",
        "testloader = torch.utils.data.DataLoader(testset, batch_size=4, shuffle=False, num_workers=2)\n"
      ],
      "metadata": {
        "colab": {
          "base_uri": "https://localhost:8080/"
        },
        "id": "2mmwiTib84T-",
        "outputId": "5742095f-62ce-4d89-b81a-d3d6f9720a33"
      },
      "execution_count": null,
      "outputs": [
        {
          "output_type": "stream",
          "name": "stdout",
          "text": [
            "Downloading https://www.cs.toronto.edu/~kriz/cifar-10-python.tar.gz to ./data/cifar-10-python.tar.gz\n"
          ]
        },
        {
          "output_type": "stream",
          "name": "stderr",
          "text": [
            "100%|██████████| 170498071/170498071 [00:05<00:00, 29335581.33it/s]\n"
          ]
        },
        {
          "output_type": "stream",
          "name": "stdout",
          "text": [
            "Extracting ./data/cifar-10-python.tar.gz to ./data\n",
            "Files already downloaded and verified\n"
          ]
        }
      ]
    },
    {
      "cell_type": "code",
      "source": [
        "import tensorflow as tf\n",
        "\n",
        "# Load CIFAR-10 dataset\n",
        "(train_images, train_labels), (test_images, test_labels) = tf.keras.datasets.cifar10.load_data()\n",
        "\n",
        "# Filter the dataset to keep only 300 images for the first class\n",
        "class_to_keep = 0  # Index of the first class\n",
        "num_images_per_class = 300\n",
        "indices_to_keep = [i for i, label in enumerate(train_labels) if label == class_to_keep][:num_images_per_class]\n",
        "\n",
        "# Select only the images and labels that meet the filter criteria\n",
        "train_images_filtered = train_images[indices_to_keep]\n",
        "train_labels_filtered = train_labels[indices_to_keep]\n",
        "\n",
        "# Verify the shape of the filtered dataset\n",
        "print(\"Shape of filtered images:\", train_images_filtered.shape)\n",
        "print(\"Shape of filtered labels:\", train_labels_filtered.shape)\n"
      ],
      "metadata": {
        "colab": {
          "base_uri": "https://localhost:8080/"
        },
        "id": "xvKusfXjiBsu",
        "outputId": "44656091-711f-4311-a2ba-ceb2289666fd"
      },
      "execution_count": null,
      "outputs": [
        {
          "output_type": "stream",
          "name": "stdout",
          "text": [
            "Downloading data from https://www.cs.toronto.edu/~kriz/cifar-10-python.tar.gz\n",
            "170498071/170498071 [==============================] - 6s 0us/step\n",
            "Shape of filtered images: (300, 32, 32, 3)\n",
            "Shape of filtered labels: (300, 1)\n"
          ]
        }
      ]
    },
    {
      "cell_type": "code",
      "source": [
        "print(\"Shape of filtered images:\", train_images_filtered.shape)\n",
        "print(\"Shape of filtered labels:\", train_labels_filtered.shape)"
      ],
      "metadata": {
        "colab": {
          "base_uri": "https://localhost:8080/"
        },
        "id": "9XsBzfbRndy7",
        "outputId": "47160844-4cd0-4561-f334-15c7da2bfd49"
      },
      "execution_count": null,
      "outputs": [
        {
          "output_type": "stream",
          "name": "stdout",
          "text": [
            "Shape of filtered images: (300, 32, 32, 3)\n",
            "Shape of filtered labels: (300, 1)\n"
          ]
        }
      ]
    },
    {
      "cell_type": "code",
      "source": [
        "class D_block(nn.Module):\n",
        "    def __init__(self, out_channels, in_channels=3, kernel_size=4, strides=2,\n",
        "                padding=1, alpha=0.2, **kwargs):\n",
        "        super(D_block, self).__init__(**kwargs)\n",
        "        self.conv2d = nn.Conv2d(in_channels, out_channels, kernel_size,\n",
        "                                strides, padding, bias=False)\n",
        "        self.batch_norm = nn.BatchNorm2d(out_channels)\n",
        "        self.activation = nn.LeakyReLU(alpha, inplace=True)\n",
        "\n",
        "    def forward(self, X):\n",
        "        return self.activation(self.batch_norm(self.conv2d(X)))"
      ],
      "metadata": {
        "id": "5eaAzGsgiYK-"
      },
      "execution_count": null,
      "outputs": []
    },
    {
      "cell_type": "code",
      "source": [
        "x = torch.zeros((1, 64, 32, 32))\n",
        "d_blk = D_block(in_channels=64, out_channels=64*2)\n",
        "d_blk(x).shape"
      ],
      "metadata": {
        "colab": {
          "base_uri": "https://localhost:8080/"
        },
        "id": "wZeb_CvArcHP",
        "outputId": "82614ef2-74f8-4a7f-e791-14f0919ef1c1"
      },
      "execution_count": null,
      "outputs": [
        {
          "output_type": "execute_result",
          "data": {
            "text/plain": [
              "torch.Size([1, 128, 16, 16])"
            ]
          },
          "metadata": {},
          "execution_count": 47
        }
      ]
    },
    {
      "cell_type": "code",
      "source": [
        "n_D = 64\n",
        "net_D = nn.Sequential(\n",
        "    D_block(n_D),  # Output: (64, 32, 32)\n",
        "    D_block(in_channels=n_D, out_channels=n_D*2),  # Output: (64 * 2, 16, 16)\n",
        "    D_block(in_channels=n_D*2, out_channels=n_D*4),  # Output: (64 * 4, 8, 8)\n",
        "    D_block(in_channels=n_D*4, out_channels=n_D*8),  # Output: (64 * 8, 4, 4)\n",
        "    nn.Conv2d(in_channels=n_D*8, out_channels=1,\n",
        "              kernel_size=4, bias=False),\n",
        "    nn.Flatten(),  # Flatten the output to apply linear layer\n",
        "    nn.Linear(1, 1),  # Linear layer to change output shape to (1)\n",
        "    nn.Sigmoid()  # Apply sigmoid activation\n",
        ")"
      ],
      "metadata": {
        "id": "soEZpZSXiZVn"
      },
      "execution_count": null,
      "outputs": []
    },
    {
      "cell_type": "code",
      "source": [
        "first_image = train_images_filtered[0]  # Assuming you have already filtered the dataset\n",
        "\n",
        "# Convert the image to a PyTorch tensor and add batch dimension\n",
        "first_image_tensor = torch.tensor(first_image, dtype=torch.float32).unsqueeze(0).permute(0, 3, 1, 2)\n",
        "\n",
        "\n",
        "\n",
        "# Print the output\n",
        "print(\"Output:\", first_image_tensor.shape)"
      ],
      "metadata": {
        "colab": {
          "base_uri": "https://localhost:8080/"
        },
        "id": "CuIQjj_0iiOp",
        "outputId": "0bc13b72-42f5-42d0-adb5-9ece9772613b"
      },
      "execution_count": null,
      "outputs": [
        {
          "output_type": "stream",
          "name": "stdout",
          "text": [
            "Output: torch.Size([1, 3, 32, 32])\n"
          ]
        }
      ]
    },
    {
      "cell_type": "code",
      "source": [
        "import torch\n",
        "import torchvision\n",
        "from torchvision import datasets\n",
        "from torch.utils.data import Subset\n",
        "import torchvision.transforms as transforms\n",
        "\n",
        "# Define a transformation\n",
        "transform = transforms.Compose([\n",
        "    transforms.Resize((64, 64)),\n",
        "    transforms.ToTensor(),\n",
        "    transforms.Normalize((0.5, 0.5, 0.5), (0.5, 0.5, 0.5))  # Normalize with mean=0.5, std=0.5\n",
        "])\n",
        "\n",
        "# Download CIFAR-10 dataset\n",
        "train_dataset = datasets.CIFAR10(root='./data', train=True, download=True, transform=transform)\n",
        "\n",
        "# Filter images from the first class (class index 0: \"airplane\")\n",
        "class_index = 0\n",
        "indices = [i for i, label in enumerate(train_dataset.targets) if label == class_index]\n",
        "\n",
        "# Keep only 300 images from the first class\n",
        "subset_indices = indices[:300]\n",
        "\n",
        "# Create a subset dataset containing only the selected images\n",
        "subset_dataset = Subset(train_dataset, subset_indices)\n",
        "\n",
        "# Create a DataLoader for the subset dataset if needed\n",
        "subset_dataloader = torch.utils.data.DataLoader(subset_dataset, batch_size=64, shuffle=True)\n",
        "\n"
      ],
      "metadata": {
        "colab": {
          "base_uri": "https://localhost:8080/"
        },
        "id": "YJa53vdbtszU",
        "outputId": "450ff906-f023-4325-b3da-9700317bc9cc"
      },
      "execution_count": null,
      "outputs": [
        {
          "output_type": "stream",
          "name": "stdout",
          "text": [
            "Files already downloaded and verified\n"
          ]
        }
      ]
    },
    {
      "cell_type": "code",
      "source": [
        "for images, labels in subset_dataloader:\n",
        "    print(net_D(images).shape)\n",
        "\n",
        "\n",
        "    break\n",
        "\n",
        "      # Break after processing the first batch\n"
      ],
      "metadata": {
        "id": "TfAy7TeijxqT"
      },
      "execution_count": null,
      "outputs": []
    },
    {
      "cell_type": "code",
      "source": [],
      "metadata": {
        "id": "93vK4L3s6nXA"
      },
      "execution_count": null,
      "outputs": []
    },
    {
      "cell_type": "code",
      "source": [
        "x = torch.zeros((64, 3, 64, 64))\n",
        "net_D(x).shape"
      ],
      "metadata": {
        "colab": {
          "base_uri": "https://localhost:8080/"
        },
        "id": "SfwPNmD0ncIu",
        "outputId": "f4a8cd26-5669-40d5-8966-4ac706e4fddd"
      },
      "execution_count": null,
      "outputs": [
        {
          "output_type": "execute_result",
          "data": {
            "text/plain": [
              "torch.Size([64, 1, 1, 1])"
            ]
          },
          "metadata": {},
          "execution_count": 68
        }
      ]
    },
    {
      "cell_type": "code",
      "source": [
        "class G_block(nn.Module):\n",
        "    def __init__(self, out_channels, in_channels=3, kernel_size=4, strides=2,\n",
        "                 padding=1, **kwargs):\n",
        "        super(G_block, self).__init__(**kwargs)\n",
        "        self.conv2d_trans = nn.ConvTranspose2d(in_channels, out_channels,\n",
        "                                kernel_size, strides, padding, bias=False)\n",
        "        self.batch_norm = nn.BatchNorm2d(out_channels)\n",
        "        self.activation = nn.ReLU()\n",
        "\n",
        "    def forward(self, X):\n",
        "        return self.activation(self.batch_norm(self.conv2d_trans(X)))"
      ],
      "metadata": {
        "id": "9Tuz81ojyOsd"
      },
      "execution_count": null,
      "outputs": []
    },
    {
      "cell_type": "code",
      "source": [
        "n_G = 64\n",
        "net_G = nn.Sequential(\n",
        "    G_block(in_channels=100, out_channels=n_G*8,\n",
        "            strides=1, padding=0),                  # Output: (64 * 8, 4, 4)\n",
        "    G_block(in_channels=n_G*8, out_channels=n_G*4), # Output: (64 * 4, 8, 8)\n",
        "    G_block(in_channels=n_G*4, out_channels=n_G*2), # Output: (64 * 2, 16, 16)\n",
        "    G_block(in_channels=n_G*2, out_channels=n_G),   # Output: (64, 32, 32)\n",
        "    nn.ConvTranspose2d(in_channels=n_G, out_channels=3,\n",
        "                       kernel_size=4, stride=2, padding=1, bias=False),\n",
        "    nn.Tanh())  # Output: (3, 64, 64)\n"
      ],
      "metadata": {
        "id": "X5ZbD_FDyQcF"
      },
      "execution_count": null,
      "outputs": []
    },
    {
      "cell_type": "code",
      "source": [
        "x = torch.zeros((1, 100, 1, 1))\n",
        "net_G(x).shape\n"
      ],
      "metadata": {
        "colab": {
          "base_uri": "https://localhost:8080/"
        },
        "id": "ATA9f4ta2ZXf",
        "outputId": "bb5f14e9-31b1-4c2e-da34-03ac60fb8b42"
      },
      "execution_count": null,
      "outputs": [
        {
          "output_type": "execute_result",
          "data": {
            "text/plain": [
              "torch.Size([1, 3, 64, 64])"
            ]
          },
          "metadata": {},
          "execution_count": 83
        }
      ]
    },
    {
      "cell_type": "code",
      "source": [
        "net_D(net_G(x)).shape"
      ],
      "metadata": {
        "colab": {
          "base_uri": "https://localhost:8080/"
        },
        "id": "1TQHyXFa2fBI",
        "outputId": "2198430d-0ccb-4f41-9ce8-239ed22ba212"
      },
      "execution_count": null,
      "outputs": [
        {
          "output_type": "execute_result",
          "data": {
            "text/plain": [
              "torch.Size([1, 1, 1, 1])"
            ]
          },
          "metadata": {},
          "execution_count": 84
        }
      ]
    },
    {
      "cell_type": "code",
      "source": [
        "import torch.nn as nn\n",
        "\n",
        "class GAN(nn.Module):\n",
        "    def __init__(self, generator, discriminator):\n",
        "        super(GAN, self).__init__()\n",
        "        self.generator = generator\n",
        "        self.discriminator = discriminator\n",
        "\n",
        "    def forward(self, z):\n",
        "        # Generate fake images from random noise\n",
        "        fake_images = self.generator(z)\n",
        "\n",
        "        # Discriminate between real and fake images\n",
        "        discriminator_output = self.discriminator(fake_images)\n",
        "\n",
        "        return discriminator_output\n",
        "\n",
        "# Assuming net_G and net_D are already defined\n",
        "gan_model = GAN(generator=net_G, discriminator=net_D)\n"
      ],
      "metadata": {
        "id": "vb6eZ2nQ6oH6"
      },
      "execution_count": null,
      "outputs": []
    },
    {
      "cell_type": "code",
      "source": [
        "for images, labels in subset_dataloader:\n",
        "\n",
        "\n",
        "\n",
        "    break"
      ],
      "metadata": {
        "id": "9RHyITyQ64qy"
      },
      "execution_count": null,
      "outputs": []
    },
    {
      "cell_type": "code",
      "source": [
        "import torch.optim as optim\n",
        "\n",
        "# Define optimizer for both generator and discriminator\n",
        "generator_optimizer = optim.Adam(net_G.parameters(), lr=0.0002, betas=(0.5, 0.999))\n",
        "discriminator_optimizer = optim.Adam(net_D.parameters(), lr=0.0002, betas=(0.5, 0.999))\n",
        "\n",
        "# Loss function\n",
        "criterion = nn.BCEWithLogitsLoss()\n",
        "\n",
        "# Number of epochs for training\n",
        "num_epochs = 1\n",
        "\n",
        "# Training loop\n",
        "for epoch in range(num_epochs):\n",
        "    for real_images, labels in subset_dataloader:\n",
        "        batch_size = real_images.size(0)\n",
        "\n",
        "        #######################\n",
        "        # Train Discriminator #\n",
        "        #######################\n",
        "\n",
        "        # Reset gradients\n",
        "        discriminator_optimizer.zero_grad()\n",
        "\n",
        "        # Discriminator forward pass with real images\n",
        "        real_outputs = net_D(real_images)\n",
        "        real_labels = torch.ones(batch_size, 1)\n",
        "        real_loss = criterion(real_outputs, real_labels)\n",
        "        fake_images = net_G(torch.randn(batch_size, 100, 1, 1))\n",
        "        fake_outputs = net_D(fake_images.detach())  # detach() to prevent gradients flowing back to the generator\n",
        "        fake_labels = torch.zeros(batch_size, 1)\n",
        "        fake_loss = criterion(fake_outputs, fake_labels)\n",
        "        discriminator_loss = real_loss + fake_loss\n",
        "\n",
        "        # Backpropagation\n",
        "        discriminator_loss.backward()\n",
        "        discriminator_optimizer.step()\n",
        "        generator_optimizer.zero_grad()\n",
        "\n",
        "        # Generator forward pass with fake images\n",
        "        fake_outputs = net_D(fake_images)\n",
        "        generator_loss = criterion(fake_outputs, real_labels)  # Generator tries to fool discriminator\n",
        "\n",
        "        # Backpropagation\n",
        "        generator_loss.backward()\n",
        "        generator_optimizer.step()\n",
        "\n",
        "\n",
        "        # Generate fake images\n",
        "        break\n"
      ],
      "metadata": {
        "id": "527icD2U7U5F"
      },
      "execution_count": null,
      "outputs": []
    }
  ]
}